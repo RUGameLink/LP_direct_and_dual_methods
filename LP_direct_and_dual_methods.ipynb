{
  "nbformat": 4,
  "nbformat_minor": 0,
  "metadata": {
    "colab": {
      "name": "LP direct and dual methods",
      "provenance": [],
      "collapsed_sections": [],
      "authorship_tag": "ABX9TyOfW2y3nG782P3RyMJW8Ym5",
      "include_colab_link": true
    },
    "kernelspec": {
      "name": "python3",
      "display_name": "Python 3"
    },
    "language_info": {
      "name": "python"
    }
  },
  "cells": [
    {
      "cell_type": "markdown",
      "metadata": {
        "id": "view-in-github",
        "colab_type": "text"
      },
      "source": [
        "<a href=\"https://colab.research.google.com/github/RUGameLink/LP_direct_and_dual_methods/blob/master/LP_direct_and_dual_methods.ipynb\" target=\"_parent\"><img src=\"https://colab.research.google.com/assets/colab-badge.svg\" alt=\"Open In Colab\"/></a>"
      ]
    },
    {
      "cell_type": "code",
      "source": [
        "import scipy\n",
        "from scipy.optimize import linprog # загрузка библиотеки ЛП"
      ],
      "metadata": {
        "id": "35Z-PKn3b1rP"
      },
      "execution_count": 1,
      "outputs": []
    },
    {
      "cell_type": "code",
      "source": [
        "\n",
        "c = [-7.5, -3, -4, -2] # список коэффициентов функции цели\n",
        "b_ub = [1500,2800,2000] # список объёмов ресурсов\n",
        "A_ub = [[2,1,0.5,4], # матрица удельных значений ресурсов\n",
        "               [1,5,3,0],\n",
        "              [3,0,5,1]] \n",
        "d=linprog(c, A_ub, b_ub) # поиск решения\n",
        "for key,val in d.items():\n",
        "         print(key,val) # вывод решения\n",
        "         if key=='x':\n",
        "                  q=[sum(i) for i in A_ub*val]#использованные ресурсы\n",
        "                  print('A_ub*x',q) \n",
        "                  q1= scipy.array(b_ub)-scipy.array(q) #остатки ресурсов\n",
        "                  print('b_ub-A_ub*x', q1)"
      ],
      "metadata": {
        "colab": {
          "base_uri": "https://localhost:8080/"
        },
        "id": "Dbl5n4k8v0GJ",
        "outputId": "9cc2f954-8851-4289-8da2-022ce97d6cfa"
      },
      "execution_count": 4,
      "outputs": [
        {
          "output_type": "stream",
          "name": "stdout",
          "text": [
            "x [5.45061392e+02 3.73395180e+02 7.29629745e+01 2.07001729e-06]\n",
            "A_ub*x [1499.9994592842775, 2630.9262140204337, 1999.9990504662076]\n",
            "b_ub-A_ub*x [5.40715723e-04 1.69073786e+02 9.49533792e-04]\n",
            "fun -5499.997881350755\n",
            "slack [5.40715722e-04 1.69073786e+02 9.49533792e-04]\n",
            "con []\n",
            "status 0\n",
            "message Optimization terminated successfully.\n",
            "nit 5\n",
            "success True\n"
          ]
        },
        {
          "output_type": "stream",
          "name": "stderr",
          "text": [
            "/usr/local/lib/python3.7/dist-packages/numpy/core/fromnumeric.py:86: VisibleDeprecationWarning: Creating an ndarray from ragged nested sequences (which is a list-or-tuple of lists-or-tuples-or ndarrays with different lengths or shapes) is deprecated. If you meant to do this, you must specify 'dtype=object' when creating the ndarray.\n",
            "  return ufunc.reduce(obj, axis, dtype, out, **passkwargs)\n",
            "/usr/local/lib/python3.7/dist-packages/ipykernel_launcher.py:13: DeprecationWarning: scipy.array is deprecated and will be removed in SciPy 2.0.0, use numpy.array instead\n",
            "  del sys.path[0]\n"
          ]
        }
      ]
    },
    {
      "cell_type": "code",
      "execution_count": 3,
      "metadata": {
        "colab": {
          "base_uri": "https://localhost:8080/"
        },
        "id": "s8A5o81mZQ4Y",
        "outputId": "7eedb10b-7ce0-46f9-d6bf-0675d75a957b"
      },
      "outputs": [
        {
          "output_type": "stream",
          "name": "stdout",
          "text": [
            "x [3.00000000e+00 2.02493697e-11 5.00000000e-01]\n",
            "fun 5500.0000000050195\n",
            "slack [-4.23092672e-11  4.14130952e-11  1.26012090e-10  1.05000000e+01]\n",
            "con []\n",
            "status 0\n",
            "message Optimization terminated successfully.\n",
            "nit 6\n",
            "success True\n"
          ]
        },
        {
          "output_type": "stream",
          "name": "stderr",
          "text": [
            "/usr/local/lib/python3.7/dist-packages/ipykernel_launcher.py:6: DeprecationWarning: scipy.transpose is deprecated and will be removed in SciPy 2.0.0, use numpy.transpose instead\n",
            "  \n",
            "/usr/local/lib/python3.7/dist-packages/numpy/core/fromnumeric.py:86: VisibleDeprecationWarning: Creating an ndarray from ragged nested sequences (which is a list-or-tuple of lists-or-tuples-or ndarrays with different lengths or shapes) is deprecated. If you meant to do this, you must specify 'dtype=object' when creating the ndarray.\n",
            "  return ufunc.reduce(obj, axis, dtype, out, **passkwargs)\n"
          ]
        }
      ],
      "source": [
        "A_ub = [[2,1,0.5,4], # матрица удельных значений ресурсов\n",
        "               [1,5,3,0],\n",
        "              [3,0,5,1]]\n",
        "c=[1500, 2800, 2000] #вектор имеющихся ресурсов\n",
        "b_ub = [-7.5, -3, -4, -2] #вектор прибыли от производства единицы изделия каждого вида\n",
        "A_ub_T =-scipy.transpose(A_ub)\n",
        "d=linprog(c, A_ub_T, b_ub)\n",
        "for key,val in d.items():\n",
        "         print(key,val)"
      ]
    }
  ]
}